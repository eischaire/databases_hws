{
 "cells": [
  {
   "cell_type": "markdown",
   "metadata": {},
   "source": [
    "# Чем лечиться в домашней аптечке"
   ]
  },
  {
   "cell_type": "markdown",
   "metadata": {},
   "source": [
    "У нас всех дома хранится много лекарств, и хорошо бы иметь быстрый и удобный доступ к данным о том, сколько у нас чего и в каких случаях что нужно принимать. То есть данные, которые хранит наша база, -- это данные о названии и количестве медикаментов, их сроке годности, а также данные из инструкций.\n",
    "\n",
    "Инструкции к лекарствам легко найти в Интернете, но поиск по каждому отдельному лекарству -- дело довольно долгое. А собрав базу и по одному разу загрузив в неё слегка переработанную инструкцию, можно гораздо быстрее находить, что в нашей аптечке есть от головной боли, например. Или какие лекарства в нашей аптечке начинаются на \"Асп\", если мы забыли название и помним только первые три буквы. Или какие у нас есть лекарства с определённым действующим веществом. А ещё можно контролировать просрочку."
   ]
  },
  {
   "cell_type": "markdown",
   "metadata": {},
   "source": [
    "### Как работает база"
   ]
  },
  {
   "cell_type": "markdown",
   "metadata": {},
   "source": [
    "Добавление в базу -- файл с текстом инструкци + информация о количестве упаковок и сроке годности"
   ]
  },
  {
   "cell_type": "markdown",
   "metadata": {},
   "source": [
    "Поиск: \n",
    "\n",
    "по форме выпуска, действующему веществу и показаниям -- полнотекстовый\n",
    "\n",
    "по сроку годности -- по дате\n",
    "\n",
    "по названию -- RegEx\n",
    "\n",
    "Выдача сортируется по сроку годности (чем раньше истекает срок годности, тем выше препарат в выдаче)"
   ]
  },
  {
   "cell_type": "markdown",
   "metadata": {},
   "source": [
    "Апдейт -- по названию медикамента. Апдейтится количество и срок годности"
   ]
  },
  {
   "cell_type": "markdown",
   "metadata": {},
   "source": [
    "Удаление из базы -- по названию медикамента"
   ]
  },
  {
   "cell_type": "code",
   "execution_count": 464,
   "metadata": {},
   "outputs": [],
   "source": [
    "import pandas as pd\n",
    "import re\n",
    "import datetime\n",
    "import pymorphy2\n",
    "import pymongo\n",
    "from bson import ObjectId"
   ]
  },
  {
   "cell_type": "markdown",
   "metadata": {},
   "source": [
    "## Подключение к базе"
   ]
  },
  {
   "cell_type": "code",
   "execution_count": 3,
   "metadata": {},
   "outputs": [],
   "source": [
    "client = pymongo.MongoClient(\"mongodb+srv://projectowner:<password>@projectcluster-0aq6m.gcp.mongodb.net/test?retryWrites=true&w=majority\")\n",
    "db = client.test"
   ]
  },
  {
   "cell_type": "code",
   "execution_count": 4,
   "metadata": {},
   "outputs": [
    {
     "data": {
      "text/plain": [
       "Database(MongoClient(host=['projectcluster-shard-00-02-0aq6m.gcp.mongodb.net:27017', 'projectcluster-shard-00-00-0aq6m.gcp.mongodb.net:27017', 'projectcluster-shard-00-01-0aq6m.gcp.mongodb.net:27017'], document_class=dict, tz_aware=False, connect=True, retrywrites=True, w='majority', authsource='admin', replicaset='ProjectCluster-shard-0', ssl=True), 'test')"
      ]
     },
     "execution_count": 4,
     "metadata": {},
     "output_type": "execute_result"
    }
   ],
   "source": [
    "db"
   ]
  },
  {
   "cell_type": "code",
   "execution_count": 5,
   "metadata": {},
   "outputs": [],
   "source": [
    "coll_meds = db['medicine_instructions']"
   ]
  },
  {
   "cell_type": "code",
   "execution_count": 251,
   "metadata": {},
   "outputs": [
    {
     "data": {
      "text/plain": [
       "'Форма выпуска_text_Действующее вещество_text_Показания_text'"
      ]
     },
     "execution_count": 251,
     "metadata": {},
     "output_type": "execute_result"
    }
   ],
   "source": [
    "# coll_meds.create_index([(\"Форма выпуска\", \"text\"), (\"Действующее вещество\", \"text\"), (\"Показания\", \"text\")], default_language='russian')"
   ]
  },
  {
   "cell_type": "markdown",
   "metadata": {},
   "source": [
    "## Функции для добавления нового лекарства в базу"
   ]
  },
  {
   "cell_type": "code",
   "execution_count": 393,
   "metadata": {},
   "outputs": [],
   "source": [
    "params = ['Годен до']\n",
    "tries = 0"
   ]
  },
  {
   "cell_type": "code",
   "execution_count": 143,
   "metadata": {},
   "outputs": [],
   "source": [
    "def parse_text(link):\n",
    "    with open(link, 'r', encoding='utf-8') as text:\n",
    "        text = text.read()\n",
    "    text = re.sub('\\n\\n', '\\n', text)\n",
    "    headers = re.findall('(@.+?)\\n', text)\n",
    "    return text, headers"
   ]
  },
  {
   "cell_type": "code",
   "execution_count": 144,
   "metadata": {},
   "outputs": [],
   "source": [
    "def enter_quantity():\n",
    "    global tries\n",
    "    tries = 0\n",
    "    quantity = int(input('Количество упаковок: '))\n",
    "    if quantity <= 0 and tries < 3: \n",
    "        tries += 1\n",
    "        quantity = enter_quantity()\n",
    "    elif tries == 3:\n",
    "        raise BaseException\n",
    "    return quantity"
   ]
  },
  {
   "cell_type": "code",
   "execution_count": 145,
   "metadata": {},
   "outputs": [],
   "source": [
    "def enter_expiry():\n",
    "    global tries\n",
    "    tries = 0\n",
    "    expiry = input('Срок годности в формате ГГГГ-ММ ')\n",
    "    try:\n",
    "        expiry_list = [int(item) for item in expiry.split('-')]\n",
    "        expiry_py = datetime.date(expiry_list[0], expiry_list[1], 1)\n",
    "        tries = 0\n",
    "    except Exception:\n",
    "        tries += 1\n",
    "        print('Такой даты не существует!')\n",
    "        if tries < 3:\n",
    "            expiry = enter_expiry()\n",
    "        else:\n",
    "            tries = 0\n",
    "            raise BaseException\n",
    "    return expiry"
   ]
  },
  {
   "cell_type": "code",
   "execution_count": 199,
   "metadata": {},
   "outputs": [],
   "source": [
    "def insert_data(link):\n",
    "    \"\"\"\n",
    "    Функция добавляет вашу инструкцию в базу.\n",
    "    Входные данные: link -- ссылка на файл с текстом инструкции.\n",
    "    \n",
    "    \"\"\"\n",
    "    global params\n",
    "    text, headers = parse_text(link)\n",
    "    for item in headers:\n",
    "        item = item.strip('@ ')\n",
    "        if item not in params:\n",
    "            params.append(item)\n",
    "    doc_dict = {}\n",
    "    doc_list = text.split('\\n')\n",
    "    for i in range(len(doc_list)):\n",
    "        if doc_list[i] in headers:\n",
    "            val = ''\n",
    "            for j in range(i+1, len(doc_list)):\n",
    "                if doc_list[j] in headers:\n",
    "                    break\n",
    "                val = val + '\\n' + doc_list[j]\n",
    "            doc_dict[doc_list[i].strip('@ ')] = val.strip('\\n')\n",
    "    quantity = enter_quantity()\n",
    "    doc_dict['Количество'] = quantity\n",
    "    expiry = enter_expiry() + '-01'\n",
    "    doc_dict['Годен до'] = 'new Date(\"{}\")'.format(expiry)\n",
    "    ins = coll_meds.insert_one(doc_dict)\n",
    "    med_name = doc_dict['Название']\n",
    "    print('Инструкция к препарату {} загружена успешно'.format(med_name))"
   ]
  },
  {
   "cell_type": "code",
   "execution_count": 147,
   "metadata": {},
   "outputs": [],
   "source": [
    "def insert_instruction():\n",
    "    print('Проверьте ваш файл. Заголовки пунктов инструкции должны быть отделены символом @ в начале и символом конца строки в конце.')\n",
    "    status_req = 'Ваш текст инструкции оформлен правильно? Ответьте \"да\" или \"нет\".\\n'\n",
    "    status = input(status_req)\n",
    "    if status.lower() == 'нет':\n",
    "        print('Ничего, я подожду. Приходите ещё!')\n",
    "    elif status.lower() == 'да':\n",
    "        link = input('Ссылка на текст: ')\n",
    "        insert_data(link)\n",
    "    else:\n",
    "        print('Что-то пошло не так, и мы вас не поняли :(')"
   ]
  },
  {
   "cell_type": "markdown",
   "metadata": {},
   "source": [
    "## Функции для поиска по базе"
   ]
  },
  {
   "cell_type": "code",
   "execution_count": 483,
   "metadata": {},
   "outputs": [],
   "source": [
    "def find():\n",
    "    \"\"\"\n",
    "    Функция ищет документы по заданным параметрам.\n",
    "    Возвращает выдачу из базы в формате датафрейма.\n",
    "    \n",
    "    \"\"\"\n",
    "    req = {}\n",
    "    params = [\"Название\", \"Форма выпуска\", \"Действующее вещество\", \"Показания\", \"Годен до\"]\n",
    "    \n",
    "    print('Введите значения для каждого параметра. Если вам нужны все значения какого-то параметра, оставьте строку пустой.')\n",
    "    for item in params:\n",
    "        res = input(item + '\\n')\n",
    "        req[item] = res\n",
    "    \n",
    "    if req[\"Годен до\"]:\n",
    "        req['Годен до'] = 'new Date(\"{}\")'.format(req[\"Годен до\"])\n",
    "\n",
    "    try:\n",
    "        res_name = coll_meds.find({\"Название\": {\"$regex\": \".*().*\".format(req[\"Название\"])}}) if req[\"Название\"] else coll_meds.find({})\n",
    "        res_form = coll_meds.find({\"$text\": {\"$search\": req[\"Форма выпуска\"]}}) if req[\"Форма выпуска\"] else coll_meds.find({})\n",
    "        if req[\"Показания\"]:\n",
    "            res_need = []\n",
    "            for word in req[\"Показания\"].split(' '):\n",
    "                res_need.append(coll_meds.find({\"$text\": {\"$search\": word.strip()}}))\n",
    "        else: \n",
    "            res_need = [coll_meds.find({})]\n",
    "        res_subst = coll_meds.find({\"$text\": {\"$search\": req[\"Действующее вещество\"]}}) if req[\"Действующее вещество\"] else coll_meds.find({})\n",
    "        res_nonexp = coll_meds.find({\"Годен до\": {\"$gte\": req[\"Годен до\"]}}) if req[\"Годен до\"] else coll_meds.find({})\n",
    "        \n",
    "        res_list = [res_name, res_form, res_subst, res_nonexp] + res_need\n",
    "        for i in range(len(res_list)):\n",
    "            res_list[i] = list(res_list[i].sort(\"Годен до\", pymongo.ASCENDING))\n",
    "        \n",
    "#         res_name, res_form, res_need, res_subst, res_nonexp = res_list\n",
    "        final = []\n",
    "        for item in res_list[0]:\n",
    "            count = 0\n",
    "            for res in res_list[1:]:\n",
    "                if item in res:\n",
    "                    count += 1\n",
    "            if count == len(res_list) - 1:\n",
    "                final.append(item)\n",
    "                                \n",
    "#         final = [item for item in res_name if item in res_form and item in res_need and item in res_subst and item in res_nonexp]\n",
    "        df = pd.DataFrame(final)\n",
    "    #         for item in req:\n",
    "#             if item not in [\"Форма выпуска\", \"Показания\", \"Действующее вещество\"] and req[item] != '$all':\n",
    "#                 que[item] = req[item]\n",
    "#         res_general = list(coll_meds.find(que))\n",
    "        return df\n",
    "    except Exception as e:\n",
    "        print('Exception!', e)"
   ]
  },
  {
   "cell_type": "code",
   "execution_count": 434,
   "metadata": {},
   "outputs": [],
   "source": [
    "def specific_meds(df):\n",
    "    spec = {}\n",
    "    req_name = input('Какой препарат вас интересует?\\n')\n",
    "    while req_name != '':\n",
    "        col_name = input('Какие главы инструкции к препарату {} вас интересуют?'.format(req_name) + ' Перечислите через точку с запятой\\n')\n",
    "        spec[req_name] = col_name.split(';')\n",
    "        req_name = input('Какой препарат вас интересует? Оставьте строку пустой, если закончили выбор\\n')\n",
    "    for item in spec:\n",
    "        print(item)\n",
    "        for col in spec[item]:\n",
    "            print(col + ': \\n' + str(df[df[\"Название\"]==item][col].values[0]) + '\\n\\n')"
   ]
  },
  {
   "cell_type": "markdown",
   "metadata": {},
   "source": [
    "## Функция для изменения данных в базе"
   ]
  },
  {
   "cell_type": "code",
   "execution_count": 453,
   "metadata": {},
   "outputs": [],
   "source": [
    "def update_quantity():\n",
    "    name = input('Название препарата: ')\n",
    "    new_quantity = enter_quantity()\n",
    "    new_expiry = enter_expiry()\n",
    "    upd = coll_meds.update_one({\"Название\": name}, {\"$set\": {\"Количество упаковок\": new_quantity, \"Годен до\": 'new Date(\"{}-01\")'.format(new_expiry)}})\n",
    "    print('Данные обновлены')"
   ]
  },
  {
   "cell_type": "markdown",
   "metadata": {},
   "source": [
    "## Функция для удаления данных из базы"
   ]
  },
  {
   "cell_type": "code",
   "execution_count": 306,
   "metadata": {},
   "outputs": [],
   "source": [
    "def delete_medicine():\n",
    "    med_name = input('Как называется препарат, который вы хотите удалить?\\n')\n",
    "    delone = coll_meds.delete_one({\"Название\": \"{}\".format(med_name)})\n",
    "    print('Препарат удалён из базы')"
   ]
  },
  {
   "cell_type": "markdown",
   "metadata": {},
   "source": [
    "## А вот так это работает"
   ]
  },
  {
   "cell_type": "code",
   "execution_count": 396,
   "metadata": {},
   "outputs": [
    {
     "name": "stdout",
     "output_type": "stream",
     "text": [
      "Проверьте ваш файл. Заголовки пунктов инструкции должны быть отделены символом @ в начале и символом конца строки в конце.\n",
      "Ваш текст инструкции оформлен правильно? Ответьте \"да\" или \"нет\".\n",
      "да\n",
      "Ссылка на текст: phenotropil.txt\n",
      "Количество упаковок: 1\n",
      "Срок годности в формате ГГГГ-ММ 2022-02\n",
      "Инструкция к препарату Фенотропил загружена успешно\n"
     ]
    }
   ],
   "source": [
    "insert_instruction()"
   ]
  },
  {
   "cell_type": "code",
   "execution_count": 468,
   "metadata": {},
   "outputs": [
    {
     "name": "stdout",
     "output_type": "stream",
     "text": [
      "Введите значения для каждого параметра. Если вам нужны все значения какого-то параметра, оставьте строку пустой.\n",
      "Название\n",
      "\n",
      "Форма выпуска\n",
      "\n",
      "Действующее вещество\n",
      "\n",
      "Показания\n",
      "топографический кретинизм\n",
      "Годен до\n",
      "\n"
     ]
    },
    {
     "data": {
      "text/html": [
       "<div>\n",
       "<style scoped>\n",
       "    .dataframe tbody tr th:only-of-type {\n",
       "        vertical-align: middle;\n",
       "    }\n",
       "\n",
       "    .dataframe tbody tr th {\n",
       "        vertical-align: top;\n",
       "    }\n",
       "\n",
       "    .dataframe thead th {\n",
       "        text-align: right;\n",
       "    }\n",
       "</style>\n",
       "<table border=\"1\" class=\"dataframe\">\n",
       "  <thead>\n",
       "    <tr style=\"text-align: right;\">\n",
       "      <th></th>\n",
       "    </tr>\n",
       "  </thead>\n",
       "  <tbody>\n",
       "  </tbody>\n",
       "</table>\n",
       "</div>"
      ],
      "text/plain": [
       "Empty DataFrame\n",
       "Columns: []\n",
       "Index: []"
      ]
     },
     "execution_count": 468,
     "metadata": {},
     "output_type": "execute_result"
    }
   ],
   "source": [
    "search_result = find()\n",
    "search_result"
   ]
  },
  {
   "cell_type": "code",
   "execution_count": 486,
   "metadata": {},
   "outputs": [
    {
     "name": "stdout",
     "output_type": "stream",
     "text": [
      "Введите значения для каждого параметра. Если вам нужны все значения какого-то параметра, оставьте строку пустой.\n",
      "Название\n",
      "\n",
      "Форма выпуска\n",
      "\n",
      "Действующее вещество\n",
      "\n",
      "Показания\n",
      "зубная боль\n",
      "Годен до\n",
      "\n"
     ]
    },
    {
     "data": {
      "text/html": [
       "<div>\n",
       "<style scoped>\n",
       "    .dataframe tbody tr th:only-of-type {\n",
       "        vertical-align: middle;\n",
       "    }\n",
       "\n",
       "    .dataframe tbody tr th {\n",
       "        vertical-align: top;\n",
       "    }\n",
       "\n",
       "    .dataframe thead th {\n",
       "        text-align: right;\n",
       "    }\n",
       "</style>\n",
       "<table border=\"1\" class=\"dataframe\">\n",
       "  <thead>\n",
       "    <tr style=\"text-align: right;\">\n",
       "      <th></th>\n",
       "      <th>_id</th>\n",
       "      <th>Название</th>\n",
       "      <th>Форма выпуска</th>\n",
       "      <th>Действующее вещество</th>\n",
       "      <th>Вспомогательные вещества</th>\n",
       "      <th>Упаковка</th>\n",
       "      <th>Фармакологическое действие</th>\n",
       "      <th>Фармакокинетика</th>\n",
       "      <th>Показания</th>\n",
       "      <th>Способ применения и дозы</th>\n",
       "      <th>Побочные действия</th>\n",
       "      <th>Противопоказания</th>\n",
       "      <th>Применение</th>\n",
       "      <th>Особые указания</th>\n",
       "      <th>Взаимодействие</th>\n",
       "      <th>Количество</th>\n",
       "      <th>Годен до</th>\n",
       "      <th>Количество упаковок</th>\n",
       "    </tr>\n",
       "  </thead>\n",
       "  <tbody>\n",
       "    <tr>\n",
       "      <th>0</th>\n",
       "      <td>5e89aba7b7d260d854f06847</td>\n",
       "      <td>Нурофен</td>\n",
       "      <td>Таблетки, покрытые оболочкой белого или почти ...</td>\n",
       "      <td>1 таб.\\nибупрофен - 200 мг</td>\n",
       "      <td>кроскармеллоза натрия - 30 мг, натрия лаурилсу...</td>\n",
       "      <td>6 шт. - блистеры (1) - пачки картонные.\\n6 шт....</td>\n",
       "      <td>НПВС, производное фенилпропионовой кислоты. Ок...</td>\n",
       "      <td>При приеме внутрь ибупрофен практически полнос...</td>\n",
       "      <td>Для системного применения\\nСимптоматическое ле...</td>\n",
       "      <td>Устанавливают индивидуально, в зависимости от ...</td>\n",
       "      <td>Со стороны системы кроветворения: очень редко ...</td>\n",
       "      <td>Повышенная чувствительность к ибупрофену.\\nДля...</td>\n",
       "      <td>Применение при беременности и кормлении грудью...</td>\n",
       "      <td>Рекомендуется назначать ибупрофен максимально ...</td>\n",
       "      <td>При одновременном применении ибупрофен уменьша...</td>\n",
       "      <td>3</td>\n",
       "      <td>new Date(\"2022-10-01\")</td>\n",
       "      <td>NaN</td>\n",
       "    </tr>\n",
       "    <tr>\n",
       "      <th>1</th>\n",
       "      <td>5e89abe0b7d260d854f06848</td>\n",
       "      <td>Фуфлофен</td>\n",
       "      <td>Таблетки, покрытые оболочкой белого или почти ...</td>\n",
       "      <td>1 таб.\\nфуфлосемид - 200 мг</td>\n",
       "      <td>NaN</td>\n",
       "      <td>NaN</td>\n",
       "      <td>НПВС, производное фенилпропионовой кислоты. Ок...</td>\n",
       "      <td>При приеме внутрь ибупрофен практически полнос...</td>\n",
       "      <td>Для системного применения\\nСимптоматическое ле...</td>\n",
       "      <td>Устанавливают индивидуально, в зависимости от ...</td>\n",
       "      <td>Со стороны системы кроветворения: очень редко ...</td>\n",
       "      <td>Повышенная чувствительность к ибупрофену.\\nДля...</td>\n",
       "      <td>Применение при беременности и кормлении грудью...</td>\n",
       "      <td>Рекомендуется назначать ибупрофен максимально ...</td>\n",
       "      <td>При одновременном применении ибупрофен уменьша...</td>\n",
       "      <td>4</td>\n",
       "      <td>new Date(\"2023-01-01\")</td>\n",
       "      <td>4.0</td>\n",
       "    </tr>\n",
       "  </tbody>\n",
       "</table>\n",
       "</div>"
      ],
      "text/plain": [
       "                        _id  Название  \\\n",
       "0  5e89aba7b7d260d854f06847   Нурофен   \n",
       "1  5e89abe0b7d260d854f06848  Фуфлофен   \n",
       "\n",
       "                                       Форма выпуска  \\\n",
       "0  Таблетки, покрытые оболочкой белого или почти ...   \n",
       "1  Таблетки, покрытые оболочкой белого или почти ...   \n",
       "\n",
       "          Действующее вещество  \\\n",
       "0   1 таб.\\nибупрофен - 200 мг   \n",
       "1  1 таб.\\nфуфлосемид - 200 мг   \n",
       "\n",
       "                            Вспомогательные вещества  \\\n",
       "0  кроскармеллоза натрия - 30 мг, натрия лаурилсу...   \n",
       "1                                                NaN   \n",
       "\n",
       "                                            Упаковка  \\\n",
       "0  6 шт. - блистеры (1) - пачки картонные.\\n6 шт....   \n",
       "1                                                NaN   \n",
       "\n",
       "                          Фармакологическое действие  \\\n",
       "0  НПВС, производное фенилпропионовой кислоты. Ок...   \n",
       "1  НПВС, производное фенилпропионовой кислоты. Ок...   \n",
       "\n",
       "                                     Фармакокинетика  \\\n",
       "0  При приеме внутрь ибупрофен практически полнос...   \n",
       "1  При приеме внутрь ибупрофен практически полнос...   \n",
       "\n",
       "                                           Показания  \\\n",
       "0  Для системного применения\\nСимптоматическое ле...   \n",
       "1  Для системного применения\\nСимптоматическое ле...   \n",
       "\n",
       "                            Способ применения и дозы  \\\n",
       "0  Устанавливают индивидуально, в зависимости от ...   \n",
       "1  Устанавливают индивидуально, в зависимости от ...   \n",
       "\n",
       "                                   Побочные действия  \\\n",
       "0  Со стороны системы кроветворения: очень редко ...   \n",
       "1  Со стороны системы кроветворения: очень редко ...   \n",
       "\n",
       "                                    Противопоказания  \\\n",
       "0  Повышенная чувствительность к ибупрофену.\\nДля...   \n",
       "1  Повышенная чувствительность к ибупрофену.\\nДля...   \n",
       "\n",
       "                                          Применение  \\\n",
       "0  Применение при беременности и кормлении грудью...   \n",
       "1  Применение при беременности и кормлении грудью...   \n",
       "\n",
       "                                     Особые указания  \\\n",
       "0  Рекомендуется назначать ибупрофен максимально ...   \n",
       "1  Рекомендуется назначать ибупрофен максимально ...   \n",
       "\n",
       "                                      Взаимодействие  Количество  \\\n",
       "0  При одновременном применении ибупрофен уменьша...           3   \n",
       "1  При одновременном применении ибупрофен уменьша...           4   \n",
       "\n",
       "                 Годен до  Количество упаковок  \n",
       "0  new Date(\"2022-10-01\")                  NaN  \n",
       "1  new Date(\"2023-01-01\")                  4.0  "
      ]
     },
     "execution_count": 486,
     "metadata": {},
     "output_type": "execute_result"
    }
   ],
   "source": [
    "search_result = find()\n",
    "search_result"
   ]
  },
  {
   "cell_type": "code",
   "execution_count": 426,
   "metadata": {},
   "outputs": [
    {
     "name": "stdout",
     "output_type": "stream",
     "text": [
      "Какой препарат вас интересует?\n",
      "Нурофен\n",
      "Какие главы инструкции к препарату Нурофен вас интересуют? Перечислите через точку с запятой\n",
      "Фармакокинетика;Противопоказания\n",
      "Какой препарат вас интересует? Оставьте строку пустой, если закончили выбор\n",
      "Фуфлофен\n",
      "Какие главы инструкции к препарату Фуфлофен вас интересуют? Перечислите через точку с запятой\n",
      "Действующее вещество\n",
      "Какой препарат вас интересует? Оставьте строку пустой, если закончили выбор\n",
      "\n",
      "Нурофен\n",
      "Фармакокинетика: \n",
      "При приеме внутрь ибупрофен практически полностью абсорбируется из ЖКТ. Одновременный прием пищи замедляет скорость всасывания. Метаболизируется в печени (90%). T1/2 составляет 2-3 ч.\n",
      "После нанесения на кожу ибупрофен обнаруживается в эпидермисе и дерме через 24 ч. Достигает высокой терапевтической концентрации в подлежащих мягких тканях, суставах и синовиальной жидкости. Клинически значимого системного всасывания практически не происходит. Cmax ибупрофена в плазме крови при наружном применении составляет 5% от уровня Cmax при пероральном применении ибупрофена.\n",
      "80% дозы выводится с мочой преимущественно в виде метаболитов (70%), 10% - в неизмененном виде; 20% выводится через кишечник в виде метаболитов.\n",
      "\n",
      "\n",
      "Противопоказания: \n",
      "Повышенная чувствительность к ибупрофену.\n",
      "Для системного применения\n",
      "Эрозивно-язвенные поражения ЖКТ в фазе обострения или язвенное кровотечение в активной фазе или в анамнезе (2 или более подтвержденных эпизода язвенной болезни или язвенного кровотечения); кровотечения или перфорация язвы органов ЖКТ в анамнезе, спровоцированные применением НПВП; тяжелая сердечная недостаточность (функциональный класс IV по классификации NYHA); выраженные нарушения функции почек и/или печени; заболевания зрительного нерва, \"аспириновая триада\", нарушения кроветворения; период после проведения аортокоронарного шунтирования; внутричерепное или другое кровотечение; гемофилия и другие нарушения свертываемости крови (в т.ч. гипокоагуляция), геморрагические диатезы; проктит (для ректального применения); III триместр беременности; масса тела ребенка до 6 кг (для всех лекарственных форм); детский возраст до 6 лет (перорально - в дозе 200 мг); детский возраст до 12 лет (перорально - в дозе 400 мг).\n",
      "С осторожностью: одновременный прием других НПВП; наличие в анамнезе однократного эпизода язвенной болезни желудка и двенадцатиперстной кишки или язвенного кровотечения ЖКТ; гастрит, энтерит, колит, наличие инфекции Helicobacter pylori, язвенный колит; бронхиальная астма или аллергические заболевания в стадии обострения или в анамнезе; системная красная волчанка или смешанное заболевание соединительной ткани (синдром Шарпа) - повышен риск асептического менингита; ветряная оспа; почечная недостаточность, в т.ч. при обезвоживании (КК менее 30-60 мл/мин), нефротический синдром, печеночная недостаточность, цирроз печени с портальной гипертензией; гипербилирубинемия; артериальная гипертензия и/или сердечная недостаточность; цереброваскулярные заболевания; заболевания крови неясной этиологии (лейкопения и анемия); тяжелые соматические заболевания; дислипидемия/гиперлипидемия; сахарный диабет; заболевания периферических артерий; курение; частое употребление алкоголя; одновременное применение лекарственных средств, которые могут увеличить риск возникновения язв или кровотечения, в частности, пероральных ГКС (в т.ч. преднизолона), антикоагулянтов (в т.ч. варфарина), селективных ингибиторов обратного захвата серотонина (в т.ч. циталопрама, флуоксетина, пароксетина, сертратина) или антиагрегантов (в т.т ацетилсалициловой кислоты, клопидогрела); I-II триместр беременности; период грудного вскармливания; пожилой возраст; детский возраст младше 12 лет - для дозы 200 мг.\n",
      "Для наружного применения\n",
      "\"Аспириновая триада\" (в т.ч. в анамнезе); нарушение целостности кожных покровов в месте нанесения (в т.ч. инфицированные раны и ссадины, мокнущие дерматиты, экзема); детский возраст до 14 лет; беременность, период лактации.\n",
      "С осторожностью: при наличии сопутствующих заболеваний печени и почек, ЖКТ, обострении печеночной порфирии, при бронхиальной астме, крапивнице, рините, полипах слизистой оболочки носа, хронической сердечной недостаточности, а также пациентам пожилого возраста.\n",
      "\n",
      "\n",
      "Фуфлофен\n",
      "Действующее вещество: \n",
      "1 таб.\n",
      "фуфлосемид - 200 мг\n",
      "\n",
      "\n"
     ]
    }
   ],
   "source": [
    "specific_meds(search_result)"
   ]
  },
  {
   "cell_type": "code",
   "execution_count": 454,
   "metadata": {},
   "outputs": [
    {
     "name": "stdout",
     "output_type": "stream",
     "text": [
      "Название препарата: Фуфлофен\n",
      "Количество упаковок: 4\n",
      "Срок годности в формате ГГГГ-ММ 2023-01\n",
      "Данные обновлены\n"
     ]
    }
   ],
   "source": [
    "update_quantity()"
   ]
  },
  {
   "cell_type": "code",
   "execution_count": 333,
   "metadata": {},
   "outputs": [
    {
     "name": "stdout",
     "output_type": "stream",
     "text": [
      "Как называется препарат, который вы хотите удалить?\n",
      "Нурофен\n",
      "Препарат удалён из базы\n"
     ]
    }
   ],
   "source": [
    "delete_medicine()"
   ]
  },
  {
   "cell_type": "code",
   "execution_count": 390,
   "metadata": {},
   "outputs": [
    {
     "ename": "TypeError",
     "evalue": "'NoneType' object is not subscriptable",
     "output_type": "error",
     "traceback": [
      "\u001b[1;31m---------------------------------------------------------------------------\u001b[0m",
      "\u001b[1;31mTypeError\u001b[0m                                 Traceback (most recent call last)",
      "\u001b[1;32m<ipython-input-390-187f7517524b>\u001b[0m in \u001b[0;36m<module>\u001b[1;34m\u001b[0m\n\u001b[1;32m----> 1\u001b[1;33m \u001b[0mprint\u001b[0m\u001b[1;33m(\u001b[0m\u001b[0mcoll_meds\u001b[0m\u001b[1;33m.\u001b[0m\u001b[0mfind_one\u001b[0m\u001b[1;33m(\u001b[0m\u001b[1;33m{\u001b[0m\u001b[1;34m\"Название\"\u001b[0m\u001b[1;33m:\u001b[0m \u001b[1;34m\"Фуфлофен\"\u001b[0m\u001b[1;33m}\u001b[0m\u001b[1;33m)\u001b[0m\u001b[1;33m[\u001b[0m\u001b[1;34m\"Противопоказания к применению\"\u001b[0m\u001b[1;33m]\u001b[0m\u001b[1;33m)\u001b[0m\u001b[1;33m\u001b[0m\u001b[0m\n\u001b[0m",
      "\u001b[1;31mTypeError\u001b[0m: 'NoneType' object is not subscriptable"
     ]
    }
   ],
   "source": [
    "print(coll_meds.find_one({\"Название\": \"Нурофен\"})[\"Противопоказания\"])"
   ]
  }
 ],
 "metadata": {
  "kernelspec": {
   "display_name": "Python 3",
   "language": "python",
   "name": "python3"
  },
  "language_info": {
   "codemirror_mode": {
    "name": "ipython",
    "version": 3
   },
   "file_extension": ".py",
   "mimetype": "text/x-python",
   "name": "python",
   "nbconvert_exporter": "python",
   "pygments_lexer": "ipython3",
   "version": "3.7.0"
  }
 },
 "nbformat": 4,
 "nbformat_minor": 2
}
